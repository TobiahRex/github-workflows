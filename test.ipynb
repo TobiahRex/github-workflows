{
 "cells": [
  {
   "cell_type": "markdown",
   "metadata": {},
   "source": [
    "# Github Workflows\n",
    "This repo is a sandbox environment for playing & expirementing with different github commands and workflows. The project is broken up into various folders for different commands. In each folder contains a README explaining the possible use-cases and workflows to carry-out to implement that tool.\n",
    "\n",
    "------\n",
    "## Cheatsheet\n",
    "[Here](https://kapeli.com/cheat_sheets/Oh-My-Zsh_Git.docset/Contents/Resources/Documents/index)\n",
    "------\n",
    "## Overview\n",
    "```markdown\n",
    "project\n",
    "│   README.md\n",
    "└───ninja 🥷  | Advanced Workflows\n",
    "│   │   [alias_macros.md](/ninja%20%F0%9F%A5%B7/alias_macros.md)\n",
    "│   │   [chaining_prs.md](/ninja%20%F0%9F%A5%B7/chaining_prs.md)\n",
    "│   │   [detect_bad_commits.md](/ninja%20%F0%9F%A5%B7/detect_bad_commit.md)\n",
    "│   │   [manage_commits.md](/ninja%20%F0%9F%A5%B7/manage_commits.md)\n",
    "│   │   [sync_branches.md](/ninja%20%F0%9F%A5%B7/sync_branches.md)\n",
    "│\n",
    "└───cowboy 🤠 | Everyday Workflows\n",
    "│   │   [create.md](/cowboy%20%F0%9F%A4%A0/create.md)\n",
    "│   │   [delete.md](/cowboy%20%F0%9F%A4%A0/delete.md)\n",
    "│   │   [read.md](/cowboy%20%F0%9F%A4%A0/read.md)\n",
    "│   │   [update.md](/cowboy%20%F0%9F%A4%A0/update.md)\n",
    "│\n",
    "└───gitzsh-setup 🛠 | Setup & Tooling\n",
    "    │   [git_plugin_setup.md](/gitzsh-setup%20%F0%9F%9B%A0/git_plugin_setup.md)\n",
    "    │   [ohmyzsh_setup.md](/gitzsh-setup%20%F0%9F%9B%A0/ohmyzsh_setup.md)\n",
    "    │   [setup_zshrc.md](/gitzsh-setup%20%F0%9F%9B%A0/setup_zshrc.md)\n",
    "```"
   ]
  }
 ],
 "metadata": {
  "language_info": {
   "name": "python"
  },
  "orig_nbformat": 4
 },
 "nbformat": 4,
 "nbformat_minor": 2
}
